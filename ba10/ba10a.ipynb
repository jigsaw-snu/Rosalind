{
 "cells": [
  {
   "cell_type": "code",
   "execution_count": 1,
   "metadata": {},
   "outputs": [],
   "source": [
    "import numpy as np"
   ]
  },
  {
   "cell_type": "code",
   "execution_count": 21,
   "metadata": {},
   "outputs": [],
   "source": [
    "def InputParser(filepath: str) -> dict:\n",
    "    params = dict()\n",
    "    \n",
    "    with open(filepath, 'r') as file:\n",
    "        params['path'] = file.readline().rstrip()\n",
    "        _ = file.readline()  # skip '----'\n",
    "        \n",
    "        params['dict'] = dict((y, x) for x, y in enumerate(file.readline().rstrip().split()))\n",
    "        _ = file.readline()  # skip '----'\n",
    "        \n",
    "        params['trans_mat'] = []\n",
    "        _ = file.readline()  # skip header\n",
    "        for _ in range(len(params['dict'])):\n",
    "            params['trans_mat'].append(list(map(float, file.readline().rstrip().split()[1:])))\n",
    "        params['trans_mat'] = np.array(params['trans_mat'])\n",
    "    \n",
    "    return params"
   ]
  },
  {
   "cell_type": "code",
   "execution_count": 37,
   "metadata": {},
   "outputs": [],
   "source": [
    "def GetPathProbability(path: str, chr2int: dict, trans_mat: np.array) -> float:\n",
    "    prob = 1.0\n",
    "    prev = path[0]\n",
    "\n",
    "    for chr in path[1:]:\n",
    "        prob *= trans_mat[chr2int[prev], chr2int[chr]]\n",
    "        prev = chr\n",
    "    \n",
    "    return prob * 0.5  # initial transition probability = 0.5"
   ]
  },
  {
   "cell_type": "code",
   "execution_count": 39,
   "metadata": {},
   "outputs": [
    {
     "name": "stdout",
     "output_type": "stream",
     "text": [
      "AABBBAABABAAAABBBBAABBABABBBAABBAAAABABAABBABABBAB\n",
      "{'A': 0, 'B': 1}\n",
      "[[0.194 0.806]\n",
      " [0.273 0.727]]\n"
     ]
    }
   ],
   "source": [
    "test_params = InputParser('./test_datasets/testdata_ba10a.txt')\n",
    "print(test_params['path'])\n",
    "print(test_params['dict'])\n",
    "print(test_params['trans_mat'])"
   ]
  },
  {
   "cell_type": "code",
   "execution_count": 40,
   "metadata": {},
   "outputs": [
    {
     "data": {
      "text/plain": [
       "5.017328653175628e-19"
      ]
     },
     "execution_count": 40,
     "metadata": {},
     "output_type": "execute_result"
    }
   ],
   "source": [
    "GetPathProbability(test_params['path'], test_params['dict'], test_params['trans_mat'])"
   ]
  }
 ],
 "metadata": {
  "kernelspec": {
   "display_name": "Python 3.8.13 ('ML')",
   "language": "python",
   "name": "python3"
  },
  "language_info": {
   "codemirror_mode": {
    "name": "ipython",
    "version": 3
   },
   "file_extension": ".py",
   "mimetype": "text/x-python",
   "name": "python",
   "nbconvert_exporter": "python",
   "pygments_lexer": "ipython3",
   "version": "3.8.13"
  },
  "orig_nbformat": 4,
  "vscode": {
   "interpreter": {
    "hash": "42981aa21682f5409b7a8314edf10a0ca4cae2c02786680d292cb972a01d179c"
   }
  }
 },
 "nbformat": 4,
 "nbformat_minor": 2
}
