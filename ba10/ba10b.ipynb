{
 "cells": [
  {
   "cell_type": "code",
   "execution_count": 1,
   "metadata": {},
   "outputs": [],
   "source": [
    "import numpy as np"
   ]
  },
  {
   "cell_type": "code",
   "execution_count": 4,
   "metadata": {},
   "outputs": [],
   "source": [
    "def InputParser(file_path: str) -> dict:\n",
    "    params = dict()\n",
    "    \n",
    "    with open(file_path, 'r') as file:\n",
    "        params['emission'] = file.readline().rstrip()\n",
    "        _ = file.readline()  # skip '----'\n",
    "        \n",
    "        params['emit_dict'] = dict((y, x) for x, y in enumerate(file.readline().rstrip().split()))\n",
    "        _ = file.readline()  # skip '----'\n",
    "        \n",
    "        params['path'] = file.readline().rstrip()\n",
    "        _ = file.readline()  # skip '----'\n",
    "        \n",
    "        params['status_dict'] = dict((y, x) for x, y in enumerate(file.readline().rstrip().split()))\n",
    "        _ = file.readline()  # skip '----'\n",
    "        \n",
    "        _ = file.readline()  # skip header\n",
    "        params['emit_per_status'] = []\n",
    "        for _ in range(len(params['status_dict'])):\n",
    "            params['emit_per_status'].append(list(map(float, file.readline().rstrip().split()[1:])))\n",
    "        params['emit_per_status'] = np.array(params['emit_per_status'])\n",
    "        \n",
    "    return params"
   ]
  },
  {
   "cell_type": "code",
   "execution_count": 9,
   "metadata": {},
   "outputs": [],
   "source": [
    "def GetPrXgivenPi(emission: str, hidden_path: str, \n",
    "                  emit2int: dict, status2int: dict, \n",
    "                  emit_per_status: np.array) -> float:\n",
    "    prob = 1.0\n",
    "    for status, emit in zip(hidden_path, emission):\n",
    "        prob *= emit_per_status[status2int[status], emit2int[emit]]\n",
    "    \n",
    "    return prob"
   ]
  },
  {
   "cell_type": "code",
   "execution_count": 8,
   "metadata": {},
   "outputs": [
    {
     "name": "stdout",
     "output_type": "stream",
     "text": [
      "xxyzyxzzxzxyxyyzxxzzxxyyxxyxyzzxxyzyzxzxxyxyyzxxzx\n",
      "BBBAAABABABBBBBBAAAAAABAAAABABABBBBBABAABABABABBBB\n",
      "{'x': 0, 'y': 1, 'z': 2}\n",
      "{'A': 0, 'B': 1}\n",
      "[[0.612 0.314 0.074]\n",
      " [0.346 0.317 0.336]]\n"
     ]
    }
   ],
   "source": [
    "test_params = InputParser('test_datasets/testdata_ba10b.txt')\n",
    "print(test_params['emission'])\n",
    "print(test_params['path'])\n",
    "print(test_params['emit_dict'])\n",
    "print(test_params['status_dict'])\n",
    "print(test_params['emit_per_status'])"
   ]
  },
  {
   "cell_type": "code",
   "execution_count": 10,
   "metadata": {},
   "outputs": [
    {
     "data": {
      "text/plain": [
       "1.9315707089321372e-28"
      ]
     },
     "execution_count": 10,
     "metadata": {},
     "output_type": "execute_result"
    }
   ],
   "source": [
    "GetPrXgivenPi(test_params['emission'], test_params['path'],\n",
    "              test_params['emit_dict'], test_params['status_dict'],\n",
    "              test_params['emit_per_status'])"
   ]
  }
 ],
 "metadata": {
  "kernelspec": {
   "display_name": "Python 3.8.13 ('ML')",
   "language": "python",
   "name": "python3"
  },
  "language_info": {
   "codemirror_mode": {
    "name": "ipython",
    "version": 3
   },
   "file_extension": ".py",
   "mimetype": "text/x-python",
   "name": "python",
   "nbconvert_exporter": "python",
   "pygments_lexer": "ipython3",
   "version": "3.8.13"
  },
  "orig_nbformat": 4,
  "vscode": {
   "interpreter": {
    "hash": "42981aa21682f5409b7a8314edf10a0ca4cae2c02786680d292cb972a01d179c"
   }
  }
 },
 "nbformat": 4,
 "nbformat_minor": 2
}
