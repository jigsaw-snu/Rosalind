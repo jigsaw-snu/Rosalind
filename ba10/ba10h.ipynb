{
 "cells": [
  {
   "cell_type": "code",
   "execution_count": 2,
   "metadata": {},
   "outputs": [],
   "source": [
    "import numpy as np\n",
    "import pandas as pd"
   ]
  },
  {
   "cell_type": "code",
   "execution_count": 5,
   "metadata": {},
   "outputs": [],
   "source": [
    "def InputParser(file_path: str) -> dict:\n",
    "    params = dict()\n",
    "\n",
    "    with open(file_path, 'r') as file:\n",
    "        params['emission'] = file.readline().rstrip()\n",
    "        _ = file.readline()  # skip '----'\n",
    "\n",
    "        params['emits'] = file.readline().strip().split()\n",
    "        _ = file.readline()  # skip '----'\n",
    "\n",
    "        params['hidden_path'] = file.readline().rstrip()\n",
    "        _ = file.readline()  # skip '----'\n",
    "\n",
    "        params['states'] = file.readline().strip().split()\n",
    "    \n",
    "    return params"
   ]
  },
  {
   "cell_type": "code",
   "execution_count": 3,
   "metadata": {},
   "outputs": [],
   "source": [
    "def DfPrinter(df: np.array, rownames: list, colnames: list) -> None:\n",
    "    print(pd.DataFrame(df, index=rownames, columns=colnames))"
   ]
  },
  {
   "cell_type": "code",
   "execution_count": 32,
   "metadata": {},
   "outputs": [],
   "source": [
    "def HMMParamEstimator(emission: str, emits: list, hidden_path: str, states: list) -> None:\n",
    "    state_idx = dict([(y, x) for x, y in enumerate(states)])\n",
    "    emit_idx = dict([(y, x) for x, y in enumerate(emits)])\n",
    "\n",
    "    transition_matrix = np.zeros(shape=(len(state_idx), len(states)), dtype=float)\n",
    "    emission_matrix = np.zeros(shape=(len(state_idx), len(emits)), dtype=float)\n",
    "\n",
    "    total_freq_states = np.array([hidden_path.count(x) for x in states], dtype=float)\n",
    "    total_freq_emits = np.array([emission.count(x) for x in emits], dtype=float)\n",
    "\n",
    "    for idx in [(state_idx[hidden_path[x]], state_idx[hidden_path[x+1]]) for x in range(len(hidden_path)-1)]:\n",
    "        transition_matrix[idx] += 1.0\n",
    "    transition_matrix /= total_freq_states.reshape(len(states), 1)\n",
    "\n",
    "    print(hidden_path)\n",
    "    print()\n",
    "    print(total_freq_states)\n",
    "    print()\n",
    "    print(transition_matrix)"
   ]
  },
  {
   "cell_type": "code",
   "execution_count": 6,
   "metadata": {},
   "outputs": [
    {
     "name": "stdout",
     "output_type": "stream",
     "text": [
      "yzzzyxzxxx\n",
      "['x', 'y', 'z']\n",
      "BBABABABAB\n",
      "['A', 'B', 'C']\n"
     ]
    }
   ],
   "source": [
    "test_params = InputParser(\"test_datasets/testdata_ba10h.txt\")\n",
    "print(test_params['emission'])\n",
    "print(test_params['emits'])\n",
    "print(test_params['hidden_path'])\n",
    "print(test_params['states'])"
   ]
  },
  {
   "cell_type": "code",
   "execution_count": 33,
   "metadata": {},
   "outputs": [
    {
     "name": "stdout",
     "output_type": "stream",
     "text": [
      "BBABABABAB\n",
      "\n",
      "[4. 6. 0.]\n",
      "\n",
      "[[0.         1.         0.        ]\n",
      " [0.66666667 0.16666667 0.        ]\n",
      " [       nan        nan        nan]]\n"
     ]
    },
    {
     "name": "stderr",
     "output_type": "stream",
     "text": [
      "/var/folders/l5/n9qbc92n5375t0l461rc7tz80000gn/T/ipykernel_7278/2841979836.py:13: RuntimeWarning: invalid value encountered in true_divide\n",
      "  transition_matrix /= total_freq_states.reshape(len(states), 1)\n"
     ]
    }
   ],
   "source": [
    "HMMParamEstimator(test_params['emission'], test_params['emits'], test_params['hidden_path'], test_params['states'])"
   ]
  },
  {
   "cell_type": "code",
   "execution_count": null,
   "metadata": {},
   "outputs": [],
   "source": []
  }
 ],
 "metadata": {
  "kernelspec": {
   "display_name": "Python 3.8.13",
   "language": "python",
   "name": "python3"
  },
  "language_info": {
   "codemirror_mode": {
    "name": "ipython",
    "version": 3
   },
   "file_extension": ".py",
   "mimetype": "text/x-python",
   "name": "python",
   "nbconvert_exporter": "python",
   "pygments_lexer": "ipython3",
   "version": "3.8.13"
  },
  "orig_nbformat": 4,
  "vscode": {
   "interpreter": {
    "hash": "c51666a50ffeaa16e3d0b681020e9d30ab6b2a31023c896cc4f4794ea395fe4a"
   }
  }
 },
 "nbformat": 4,
 "nbformat_minor": 2
}
