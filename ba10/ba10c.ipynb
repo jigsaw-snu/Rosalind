{
 "cells": [
  {
   "cell_type": "code",
   "execution_count": 8,
   "metadata": {},
   "outputs": [],
   "source": [
    "import itertools\n",
    "import numpy as np"
   ]
  },
  {
   "cell_type": "code",
   "execution_count": 6,
   "metadata": {},
   "outputs": [],
   "source": [
    "def InputParser(file_path: str) -> dict:\n",
    "    params = dict()\n",
    "    \n",
    "    with open(file_path, 'r') as file:\n",
    "        params['emission'] = file.readline().rstrip()\n",
    "        _ = file.readline()  # skip '----'\n",
    "        \n",
    "        params['emit_dict'] = dict((y, x) for x, y in enumerate(file.readline().rstrip().split()))\n",
    "        _ = file.readline()  # skip '----'\n",
    "        \n",
    "        params['status_dict'] = dict((y, x) for x, y in enumerate(file.readline().rstrip().split()))\n",
    "        _ = file.readline()  # skip '----'\n",
    "        \n",
    "        _ = file.readline()  # skip header\n",
    "        params['transition_mat'] = []\n",
    "        for _ in range(len(params['status_dict'])):  # row is status\n",
    "            params['transition_mat'].append(list(map(float, file.readline().rstrip().split()[1:])))\n",
    "        params['transition_mat'] = np.array(params['transition_mat'])\n",
    "        _ = file.readline()  # skip '----'\n",
    "        \n",
    "        _ = file.readline()  # skip header\n",
    "        params['emit_mat'] = []\n",
    "        for _ in range(len(params['status_dict'])):  # row is status\n",
    "            params['emit_mat'].append(list(map(float, file.readline().rstrip().split()[1:])))\n",
    "        params['emit_mat'] = np.array(params['emit_mat'])\n",
    "        \n",
    "    return params"
   ]
  },
  {
   "cell_type": "code",
   "execution_count": 86,
   "metadata": {},
   "outputs": [],
   "source": [
    "def ViterbiAlgorithm(emission: str, emit2int: dict, status2int: dict, \n",
    "                     transition_mat: np.array, emit_mat: np.array) -> str:\n",
    "    \n",
    "    score_matrix = np.zeros(shape=(len(status2int), len(emission)))  # for scoring\n",
    "    direction_matrix = np.zeros(shape=(len(status2int), len(emission)-1), dtype=int)  # for backtracing\n",
    "    direction_map = dict((y, x) for x, y in enumerate(itertools.product(range(len(status2int)), range(len(status2int)))))  # helper dictionary for direction mark\n",
    "    #print('Direction map', direction_map, sep='\\n')\n",
    "    #print('\\n')\n",
    "    \n",
    "    # initialize\n",
    "    score_matrix[:, 0] = np.log(0.5) + np.log(emit_mat[:, emit2int[emission[0]]])\n",
    "    \n",
    "    # forward\n",
    "    for i in range(1, len(emission)):  # col : emission\n",
    "        for j in range(len(status2int)):  # row : status; j : current status\n",
    "            #print('i :', i, ',  j :', j, ',  emit :', emission[i])\n",
    "            #print(\"prev scores :\", score_matrix[:, i-1])\n",
    "            #print(\"trainsition mat[cur_state] :\", transition_mat[:, j])\n",
    "            \n",
    "            prev_status, max_val = max(enumerate(score_matrix[:, i-1] + np.log(transition_mat[:, j])), key=lambda x: x[1])\n",
    "            \n",
    "            #print('prev_status :', list(status2int.keys())[prev_status], ',  max_value :', max_val)\n",
    "            #print()\n",
    "            \n",
    "            score_matrix[j, i] = np.log(emit_mat[j, emit2int[emission[i]]]) + max_val\n",
    "            direction_matrix[j, i-1] = direction_map[(prev_status, j)]\n",
    "        \n",
    "        #print('Column Work Done :', score_matrix[:, i])\n",
    "        #print('max index :', direction_matrix[:, i-1])\n",
    "        #print('\\n')\n",
    "    \n",
    "    #print(score_matrix)\n",
    "    #print(direction_matrix)\n",
    "    \n",
    "    # backtrace\n",
    "    pointer = len(emission)-2\n",
    "    end_status_idx = np.argmax(score_matrix[:, pointer])\n",
    "    hidden_state = list(status2int.keys())[end_status_idx]\n",
    "    cur_status_idx, _ = list(direction_map.keys())[direction_matrix[end_status_idx, pointer]]\n",
    "    \n",
    "    while pointer >= 0:\n",
    "        pointer -= 1\n",
    "        hidden_state += list(status2int.keys())[cur_status_idx]\n",
    "        cur_status_idx, _ = list(direction_map.keys())[direction_matrix[cur_status_idx, pointer]]\n",
    "    \n",
    "    \n",
    "    return hidden_state[::-1]"
   ]
  },
  {
   "cell_type": "code",
   "execution_count": 10,
   "metadata": {},
   "outputs": [
    {
     "name": "stdout",
     "output_type": "stream",
     "text": [
      "xyxzzxyxyy\n",
      "{'x': 0, 'y': 1, 'z': 2}\n",
      "{'A': 0, 'B': 1}\n",
      "[[0.641 0.359]\n",
      " [0.729 0.271]]\n",
      "[[0.117 0.691 0.192]\n",
      " [0.097 0.42  0.483]]\n"
     ]
    }
   ],
   "source": [
    "test_params = InputParser('test_datasets/testdata_ba10c-2.txt')\n",
    "print(test_params['emission'])\n",
    "print(test_params['emit_dict'])\n",
    "print(test_params['status_dict'])\n",
    "print(test_params['transition_mat'])\n",
    "print(test_params['emit_mat'])"
   ]
  },
  {
   "cell_type": "code",
   "execution_count": 85,
   "metadata": {},
   "outputs": [
    {
     "data": {
      "text/plain": [
       "'AAABBAAAAA'"
      ]
     },
     "execution_count": 85,
     "metadata": {},
     "output_type": "execute_result"
    }
   ],
   "source": [
    "ViterbiAlgorithm(test_params['emission'], test_params['emit_dict'], test_params['status_dict'],\n",
    "                 test_params['transition_mat'], test_params['emit_mat'])"
   ]
  },
  {
   "cell_type": "code",
   "execution_count": null,
   "metadata": {},
   "outputs": [],
   "source": []
  }
 ],
 "metadata": {
  "kernelspec": {
   "display_name": "Python 3.8.13 ('ML')",
   "language": "python",
   "name": "python3"
  },
  "language_info": {
   "codemirror_mode": {
    "name": "ipython",
    "version": 3
   },
   "file_extension": ".py",
   "mimetype": "text/x-python",
   "name": "python",
   "nbconvert_exporter": "python",
   "pygments_lexer": "ipython3",
   "version": "3.8.13"
  },
  "orig_nbformat": 4,
  "vscode": {
   "interpreter": {
    "hash": "42981aa21682f5409b7a8314edf10a0ca4cae2c02786680d292cb972a01d179c"
   }
  }
 },
 "nbformat": 4,
 "nbformat_minor": 2
}
