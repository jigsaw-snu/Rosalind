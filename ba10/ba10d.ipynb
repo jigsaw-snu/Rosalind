{
 "cells": [
  {
   "cell_type": "code",
   "execution_count": 1,
   "metadata": {},
   "outputs": [],
   "source": [
    "import numpy as np"
   ]
  },
  {
   "cell_type": "code",
   "execution_count": 6,
   "metadata": {},
   "outputs": [],
   "source": [
    "def InputParser(file_path: str) -> dict:\n",
    "    params = dict()\n",
    "    \n",
    "    with open(file_path, 'r') as file:\n",
    "        params['emission'] = file.readline().rstrip()\n",
    "        _ = file.readline()  # skip '----'\n",
    "        \n",
    "        params['emit_dict'] = dict((y, x) for x, y in enumerate(file.readline().rstrip().split()))\n",
    "        _ = file.readline()  # skip '----'\n",
    "        \n",
    "        params['status_dict'] = dict((y, x) for x, y in enumerate(file.readline().rstrip().split()))\n",
    "        _ = file.readline()  # skip '----'\n",
    "        \n",
    "        _ = file.readline()  # skip header\n",
    "        params['transition_matrix'] = np.array([\n",
    "            list(map(float, file.readline().rstrip().split()[1:])) for _ in range(len(params['status_dict']))\n",
    "        ])\n",
    "        _ = file.readline()  # skip '----'\n",
    "        \n",
    "        _ = file.readline()  # skip header\n",
    "        params['emission_matrix'] = np.array([\n",
    "            list(map(float, file.readline().rstrip().split()[1:])) for _ in range(len(params['status_dict']))\n",
    "        ])\n",
    "    \n",
    "    return params"
   ]
  },
  {
   "cell_type": "code",
   "execution_count": null,
   "metadata": {},
   "outputs": [],
   "source": []
  },
  {
   "cell_type": "code",
   "execution_count": 7,
   "metadata": {},
   "outputs": [
    {
     "name": "stdout",
     "output_type": "stream",
     "text": [
      "xzyyzzyzyy\n",
      "{'x': 0, 'y': 1, 'z': 2}\n",
      "{'A': 0, 'B': 1}\n",
      "[[0.303 0.697]\n",
      " [0.831 0.169]]\n",
      "[[0.533 0.065 0.402]\n",
      " [0.342 0.334 0.324]]\n"
     ]
    }
   ],
   "source": [
    "test_params = InputParser('test_datasets/testdata_ba10d.txt')\n",
    "print(test_params['emission'])\n",
    "print(test_params['emit_dict'])\n",
    "print(test_params['status_dict'])\n",
    "print(test_params['transition_matrix'])\n",
    "print(test_params['emission_matrix'])"
   ]
  },
  {
   "cell_type": "code",
   "execution_count": 12,
   "metadata": {},
   "outputs": [
    {
     "name": "stdout",
     "output_type": "stream",
     "text": [
      "\t0\t1\t2\n",
      "0\t0.5\t0.5\t0.5\n",
      "1\t0.5\t0.5\t0.5\n",
      "2\t0.5\t0.5\t0.5\n"
     ]
    }
   ],
   "source": [
    "import sys\n",
    "import pandas as pd\n",
    "\n",
    "arr = np.ones(shape=(3, 3)) / 2\n",
    "pd.DataFrame(arr).to_csv(sys.stdout, sep='\\t', float_format='{:.3g}'.format)"
   ]
  },
  {
   "cell_type": "code",
   "execution_count": null,
   "metadata": {},
   "outputs": [],
   "source": []
  }
 ],
 "metadata": {
  "kernelspec": {
   "display_name": "Python 3.8.13 ('ML')",
   "language": "python",
   "name": "python3"
  },
  "language_info": {
   "codemirror_mode": {
    "name": "ipython",
    "version": 3
   },
   "file_extension": ".py",
   "mimetype": "text/x-python",
   "name": "python",
   "nbconvert_exporter": "python",
   "pygments_lexer": "ipython3",
   "version": "3.8.13"
  },
  "orig_nbformat": 4,
  "vscode": {
   "interpreter": {
    "hash": "42981aa21682f5409b7a8314edf10a0ca4cae2c02786680d292cb972a01d179c"
   }
  }
 },
 "nbformat": 4,
 "nbformat_minor": 2
}
