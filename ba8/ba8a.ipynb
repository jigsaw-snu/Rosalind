{
 "cells": [
  {
   "cell_type": "code",
   "execution_count": 1,
   "metadata": {},
   "outputs": [],
   "source": [
    "import numpy as np"
   ]
  },
  {
   "cell_type": "code",
   "execution_count": 62,
   "metadata": {},
   "outputs": [],
   "source": [
    "test_data1 = np.loadtxt(\"test_datasets/testdata_ba8a.txt\", delimiter=' ', skiprows=1)  # 3, 2\n",
    "test_data2 = np.loadtxt(\"test_datasets/testdata_ba8a-2.txt\", delimiter=' ', skiprows=1)  # 4, 5\n",
    "valid_data = np.loadtxt(\"test_datasets/rosalind_ba8a.txt\", delimiter=' ', skiprows=1)  # 6, 3"
   ]
  },
  {
   "cell_type": "code",
   "execution_count": 59,
   "metadata": {},
   "outputs": [],
   "source": [
    "def FarthestFirstTravversal(data: np.array, k: int) -> None:\n",
    "    centers = [data[0]]  # initialize with first point\n",
    "\n",
    "    while len(centers) < k:\n",
    "        distances = [np.min([np.sqrt(((point - center)**2).sum()) for center in centers]) for point in data]\n",
    "        max_idx = distances.index(max(distances))\n",
    "        centers.append(data[max_idx])\n",
    "    \n",
    "    for center in centers:\n",
    "        print(' '.join(list(map(str, center))))"
   ]
  },
  {
   "cell_type": "code",
   "execution_count": 63,
   "metadata": {},
   "outputs": [
    {
     "name": "stdout",
     "output_type": "stream",
     "text": [
      "0.0 0.0\n",
      "5.0 5.0\n",
      "0.0 5.0\n",
      "\n",
      "0.8 12.0 17.5 0.9 7.2\n",
      "0.3 16.4 8.9 34.6 24.6\n",
      "32.3 1.9 5.1 16.2 8.8\n",
      "23.1 31.1 3.6 0.8 0.3\n",
      "\n",
      "0.9 20.8 6.3\n",
      "33.8 5.7 9.7\n",
      "12.3 4.7 35.3\n",
      "11.9 0.8 1.2\n",
      "20.8 25.6 15.6\n",
      "0.5 40.2 0.3\n"
     ]
    }
   ],
   "source": [
    "FarthestFirstTravversal(test_data1, 3)\n",
    "print()\n",
    "FarthestFirstTravversal(test_data2, 4)\n",
    "print()\n",
    "FarthestFirstTravversal(valid_data, 6)"
   ]
  }
 ],
 "metadata": {
  "kernelspec": {
   "display_name": "Python 3.8.13",
   "language": "python",
   "name": "python3"
  },
  "language_info": {
   "codemirror_mode": {
    "name": "ipython",
    "version": 3
   },
   "file_extension": ".py",
   "mimetype": "text/x-python",
   "name": "python",
   "nbconvert_exporter": "python",
   "pygments_lexer": "ipython3",
   "version": "3.8.13"
  },
  "orig_nbformat": 4,
  "vscode": {
   "interpreter": {
    "hash": "c51666a50ffeaa16e3d0b681020e9d30ab6b2a31023c896cc4f4794ea395fe4a"
   }
  }
 },
 "nbformat": 4,
 "nbformat_minor": 2
}
