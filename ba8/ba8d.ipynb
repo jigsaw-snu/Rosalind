{
 "cells": [
  {
   "cell_type": "code",
   "execution_count": 1,
   "metadata": {},
   "outputs": [],
   "source": [
    "import numpy as np"
   ]
  },
  {
   "cell_type": "code",
   "execution_count": 2,
   "metadata": {},
   "outputs": [],
   "source": [
    "def InputParser(file_path: str) -> dict():\n",
    "    params = dict()\n",
    "    \n",
    "    with open(file_path, 'r') as file:\n",
    "        params['k'], params['m'] = list(map(int, file.readline().split()))\n",
    "        params['beta'] = float(file.readline().rstrip())\n",
    "        \n",
    "        params['data'] = []\n",
    "        while True:\n",
    "            line = file.readline().rstrip()\n",
    "            \n",
    "            if not line:\n",
    "                break\n",
    "            \n",
    "            params['data'].append(list(map(float, line.split())))\n",
    "    \n",
    "        params['data'] = np.array(params['data'])\n",
    "    \n",
    "    return params"
   ]
  },
  {
   "cell_type": "code",
   "execution_count": 21,
   "metadata": {},
   "outputs": [],
   "source": [
    "def GetDistance(point: np.array, center: np.array) -> float:\n",
    "    return np.sqrt(np.square(point - center).sum())"
   ]
  },
  {
   "cell_type": "code",
   "execution_count": 61,
   "metadata": {},
   "outputs": [],
   "source": [
    "def SoftKmeansClustering(k: int, beta: float, datapoints: np.array) -> None:\n",
    "    # initialize centers with first k points\n",
    "    centers = datapoints[:k]\n",
    "\n",
    "    steps = 100\n",
    "    while steps > 0:\n",
    "        steps -= 1\n",
    "\n",
    "        # E-step (Estimating Hidden Matrix)\n",
    "        hidden_matrix = np.array([[np.exp(-beta*GetDistance(point, center)) for point in datapoints] for center in centers])\n",
    "        hidden_matrix = hidden_matrix / hidden_matrix.sum(axis=0)  # axis=0 : column-wise\n",
    "        \n",
    "        # M-step (Estimating Parameters)\n",
    "        new_centers = ((hidden_matrix @ datapoints).T / hidden_matrix.sum(axis=1)).T  # axis=1 : row-wise\n",
    "        \n",
    "        if np.array_equal(centers, new_centers):\n",
    "            break\n",
    "        \n",
    "        centers = new_centers\n",
    "    \n",
    "    for center in centers:\n",
    "        print(' '.join(list(map(lambda x: format(x, '.3f'), center))))"
   ]
  },
  {
   "cell_type": "code",
   "execution_count": 64,
   "metadata": {},
   "outputs": [],
   "source": [
    "# test input parser\n",
    "test_params = InputParser(\"test_datasets/testdata_ba8d.txt\")\n",
    "test_params2 = InputParser(\"test_datasets/testdata_ba8d-2.txt\")\n",
    "#print(test_params['k'], test_params['m'])\n",
    "#print(test_params['beta'])\n",
    "#print(test_params['data'])"
   ]
  },
  {
   "cell_type": "code",
   "execution_count": 63,
   "metadata": {},
   "outputs": [
    {
     "name": "stdout",
     "output_type": "stream",
     "text": [
      "1.662 2.623\n",
      "1.075 1.148\n"
     ]
    }
   ],
   "source": [
    "SoftKmeansClustering(test_params['k'], test_params['beta'], test_params['data'])"
   ]
  },
  {
   "cell_type": "code",
   "execution_count": 65,
   "metadata": {},
   "outputs": [
    {
     "name": "stdout",
     "output_type": "stream",
     "text": [
      "5.889 16.921 6.873\n",
      "20.404 8.236 9.055\n",
      "3.590 4.853 4.970\n",
      "11.329 5.448 5.319\n",
      "5.761 6.494 17.227\n"
     ]
    }
   ],
   "source": [
    "SoftKmeansClustering(test_params2['k'], test_params2['beta'], test_params2['data'])"
   ]
  },
  {
   "cell_type": "code",
   "execution_count": null,
   "metadata": {},
   "outputs": [],
   "source": []
  }
 ],
 "metadata": {
  "kernelspec": {
   "display_name": "Python 3.8.13 ('ML')",
   "language": "python",
   "name": "python3"
  },
  "language_info": {
   "codemirror_mode": {
    "name": "ipython",
    "version": 3
   },
   "file_extension": ".py",
   "mimetype": "text/x-python",
   "name": "python",
   "nbconvert_exporter": "python",
   "pygments_lexer": "ipython3",
   "version": "3.8.13"
  },
  "orig_nbformat": 4,
  "vscode": {
   "interpreter": {
    "hash": "42981aa21682f5409b7a8314edf10a0ca4cae2c02786680d292cb972a01d179c"
   }
  }
 },
 "nbformat": 4,
 "nbformat_minor": 2
}
