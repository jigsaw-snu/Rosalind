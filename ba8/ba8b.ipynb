{
 "cells": [
  {
   "cell_type": "code",
   "execution_count": 8,
   "metadata": {},
   "outputs": [],
   "source": [
    "import numpy as np"
   ]
  },
  {
   "cell_type": "code",
   "execution_count": 11,
   "metadata": {},
   "outputs": [],
   "source": [
    "def InputParser(file_path: str) -> dict:\n",
    "    params = dict()\n",
    "    params['centers'] = list()\n",
    "    params['data'] = list()\n",
    "\n",
    "    data_flag = False\n",
    "\n",
    "    with open(file_path, 'r') as file:\n",
    "        _ = file.readline()  # we do not need k and m\n",
    "\n",
    "        while True:\n",
    "            line = file.readline().rstrip()\n",
    "\n",
    "            if not line:\n",
    "                break\n",
    "\n",
    "            if '-' in line:\n",
    "                data_flag = True\n",
    "                continue\n",
    "\n",
    "            if data_flag:\n",
    "                params['data'].append(list(map(float, line.split())))\n",
    "            else:\n",
    "                params['centers'].append(list(map(float, line.split())))\n",
    "    \n",
    "    params['centers'] = np.array(params['centers'])\n",
    "    params['data'] = np.array(params['data'])\n",
    "\n",
    "    return params"
   ]
  },
  {
   "cell_type": "code",
   "execution_count": 34,
   "metadata": {},
   "outputs": [],
   "source": [
    "test_data1 = InputParser(\"test_datasets/testdata_ba8b.txt\")\n",
    "test_data2 = InputParser(\"test_datasets/testdata_ba8b-2.txt\")\n",
    "valid_data = InputParser(\"test_datasets/rosalind_ba8b.txt\")"
   ]
  },
  {
   "cell_type": "code",
   "execution_count": 29,
   "metadata": {},
   "outputs": [],
   "source": [
    "def SquaredErrorDistortion(centers: np.array, data: np.array) -> float:\n",
    "    distances = np.array([np.min([np.sqrt(((point - center)**2).sum()) for center in centers]) for point in data])\n",
    "    distortion = np.mean(distances**2)\n",
    "\n",
    "    return round(distortion.item(), 3)"
   ]
  },
  {
   "cell_type": "code",
   "execution_count": 37,
   "metadata": {},
   "outputs": [
    {
     "name": "stdout",
     "output_type": "stream",
     "text": [
      "18.246\n",
      "\n",
      "36.763\n",
      "\n",
      "42.617\n"
     ]
    }
   ],
   "source": [
    "print(SquaredErrorDistortion(test_data1['centers'], test_data1['data']))\n",
    "print()\n",
    "print(SquaredErrorDistortion(test_data2['centers'], test_data2['data']))\n",
    "print()\n",
    "print(SquaredErrorDistortion(valid_data['centers'], valid_data['data']))"
   ]
  }
 ],
 "metadata": {
  "kernelspec": {
   "display_name": "Python 3.8.13",
   "language": "python",
   "name": "python3"
  },
  "language_info": {
   "codemirror_mode": {
    "name": "ipython",
    "version": 3
   },
   "file_extension": ".py",
   "mimetype": "text/x-python",
   "name": "python",
   "nbconvert_exporter": "python",
   "pygments_lexer": "ipython3",
   "version": "3.8.13"
  },
  "orig_nbformat": 4,
  "vscode": {
   "interpreter": {
    "hash": "c51666a50ffeaa16e3d0b681020e9d30ab6b2a31023c896cc4f4794ea395fe4a"
   }
  }
 },
 "nbformat": 4,
 "nbformat_minor": 2
}
