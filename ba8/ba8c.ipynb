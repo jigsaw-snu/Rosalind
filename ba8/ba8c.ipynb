{
 "cells": [
  {
   "cell_type": "code",
   "execution_count": 1,
   "metadata": {},
   "outputs": [],
   "source": [
    "import numpy as np"
   ]
  },
  {
   "cell_type": "code",
   "execution_count": 3,
   "metadata": {},
   "outputs": [],
   "source": [
    "def InputParser(file_path: str) -> dict:\n",
    "    params = dict()\n",
    "\n",
    "    with open(file_path, 'r') as file:\n",
    "        k, _ = list(map(int, file.readline().split()))  # we only need k\n",
    "        params['k'] = k\n",
    "\n",
    "    params['data'] = np.loadtxt(file_path, delimiter=' ', skiprows=1)\n",
    "\n",
    "    return params"
   ]
  },
  {
   "cell_type": "code",
   "execution_count": 60,
   "metadata": {},
   "outputs": [],
   "source": [
    "test_data1 = InputParser(\"test_datasets/testdata_ba8c.txt\")\n",
    "test_data2 = InputParser(\"test_datasets/testdata_ba8c-2.txt\")\n",
    "valid_data = InputParser(\"test_datasets/rosalind_ba8c.txt\")"
   ]
  },
  {
   "cell_type": "code",
   "execution_count": 56,
   "metadata": {},
   "outputs": [],
   "source": [
    "def LloydClustering(data: np.array, k: int) -> None:\n",
    "    centers = np.array([data[i] for i in range(k)])  # initialize random centers\n",
    "\n",
    "    clusters = [np.inf for _ in range(len(data))]\n",
    "\n",
    "    while True:\n",
    "        for i in range(len(data)):\n",
    "            distances = [np.sqrt(((data[i] - center)**2).sum()) for center in centers]\n",
    "            clusters[i] = distances.index(min(distances))\n",
    "\n",
    "        new_centers = np.array([np.mean([data[i] for i in range(len(data)) if clusters[i] == j], axis=0) for j in range(k)])\n",
    "\n",
    "        if np.all(centers == new_centers):\n",
    "            break\n",
    "\n",
    "        centers = new_centers\n",
    "\n",
    "    for center in centers:\n",
    "        center = list(map(lambda x: format(round(x, 3), '.3f'), center))\n",
    "        print(' '.join(list(map(str, center))))"
   ]
  },
  {
   "cell_type": "code",
   "execution_count": 61,
   "metadata": {},
   "outputs": [
    {
     "name": "stdout",
     "output_type": "stream",
     "text": [
      "1.800 2.867\n",
      "1.060 1.140\n",
      "\n",
      "7.561 6.167 16.568 6.078 7.096\n",
      "18.232 6.147 5.468 6.578 6.053\n",
      "7.037 17.299 6.927 5.495 7.028\n",
      "7.712 7.233 6.916 18.717 6.838\n",
      "6.042 6.279 5.708 7.014 17.408\n",
      "5.158 4.559 5.113 5.144 4.719\n",
      "\n",
      "18.408 6.074 5.505 4.023 7.197\n",
      "6.974 18.238 6.656 6.367 6.543\n",
      "4.952 7.494 8.146 18.811 6.147\n",
      "5.372 7.788 7.195 6.198 17.353\n",
      "7.526 6.334 18.507 6.517 7.164\n",
      "4.625 4.600 5.277 5.417 5.047\n",
      "14.359 5.454 5.911 13.716 6.009\n"
     ]
    }
   ],
   "source": [
    "LloydClustering(test_data1['data'], test_data1['k'])\n",
    "print()\n",
    "LloydClustering(test_data2['data'], test_data2['k'])\n",
    "print()\n",
    "LloydClustering(valid_data['data'], valid_data['k'])"
   ]
  },
  {
   "cell_type": "code",
   "execution_count": null,
   "metadata": {},
   "outputs": [],
   "source": []
  }
 ],
 "metadata": {
  "kernelspec": {
   "display_name": "Python 3.8.13",
   "language": "python",
   "name": "python3"
  },
  "language_info": {
   "codemirror_mode": {
    "name": "ipython",
    "version": 3
   },
   "file_extension": ".py",
   "mimetype": "text/x-python",
   "name": "python",
   "nbconvert_exporter": "python",
   "pygments_lexer": "ipython3",
   "version": "3.8.13"
  },
  "orig_nbformat": 4,
  "vscode": {
   "interpreter": {
    "hash": "c51666a50ffeaa16e3d0b681020e9d30ab6b2a31023c896cc4f4794ea395fe4a"
   }
  }
 },
 "nbformat": 4,
 "nbformat_minor": 2
}
