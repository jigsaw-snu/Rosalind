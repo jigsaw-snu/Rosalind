{
 "cells": [
  {
   "cell_type": "code",
   "execution_count": 1,
   "metadata": {},
   "outputs": [],
   "source": [
    "import numpy as np"
   ]
  },
  {
   "cell_type": "code",
   "execution_count": 3,
   "metadata": {},
   "outputs": [],
   "source": [
    "def InputParser(file_path: str) -> dict:\n",
    "    params = dict()\n",
    "\n",
    "    with open(file_path, 'r') as file:\n",
    "        k, _ = list(map(int, file.readline().split()))  # we only need k\n",
    "        params['k'] = k\n",
    "\n",
    "    params['data'] = np.loadtxt(file_path, delimiter=' ', skiprows=1)\n",
    "\n",
    "    return params"
   ]
  },
  {
   "cell_type": "code",
   "execution_count": 4,
   "metadata": {},
   "outputs": [],
   "source": [
    "test_data1 = InputParser(\"test_datasets/testdata_ba8c.txt\")"
   ]
  },
  {
   "cell_type": "code",
   "execution_count": null,
   "metadata": {},
   "outputs": [],
   "source": [
    "def LloydClustering(data: np.array, k: int) -> None:\n",
    "    centers = np.array([data[i] for i in range(k)])  # initialize random centers\n",
    "\n",
    "    clusters = [np.inf for _ in range(len(data))]\n",
    "\n",
    "    for i in range(len(data)):\n",
    "        distances = [np.sqrt(((data[i] - center)**2).sum()) for center in centers]\n",
    "        clusters[i] = distances.index(min(distances))\n",
    "    \n",
    "    "
   ]
  }
 ],
 "metadata": {
  "kernelspec": {
   "display_name": "Python 3.8.13",
   "language": "python",
   "name": "python3"
  },
  "language_info": {
   "codemirror_mode": {
    "name": "ipython",
    "version": 3
   },
   "file_extension": ".py",
   "mimetype": "text/x-python",
   "name": "python",
   "nbconvert_exporter": "python",
   "pygments_lexer": "ipython3",
   "version": "3.8.13"
  },
  "orig_nbformat": 4,
  "vscode": {
   "interpreter": {
    "hash": "c51666a50ffeaa16e3d0b681020e9d30ab6b2a31023c896cc4f4794ea395fe4a"
   }
  }
 },
 "nbformat": 4,
 "nbformat_minor": 2
}
