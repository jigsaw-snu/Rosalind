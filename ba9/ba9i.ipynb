{
 "cells": [
  {
   "cell_type": "code",
   "execution_count": 15,
   "metadata": {},
   "outputs": [],
   "source": [
    "def InputParser(file_path: str) -> str:\n",
    "    with open(file_path, 'r') as file:\n",
    "        return file.readline().rstrip()"
   ]
  },
  {
   "cell_type": "code",
   "execution_count": 1,
   "metadata": {},
   "outputs": [],
   "source": [
    "def RotateString(text: str) -> str:\n",
    "    return text[-1]+text[:-1]"
   ]
  },
  {
   "cell_type": "code",
   "execution_count": 13,
   "metadata": {},
   "outputs": [],
   "source": [
    "def BurrowsWheeler(text: str) -> str:\n",
    "    text_pool = []\n",
    "    \n",
    "    rotated = text\n",
    "    for _ in range(len(text)):\n",
    "        rotated = RotateString(rotated)\n",
    "        text_pool.append(rotated)\n",
    "    \n",
    "    text_pool.sort()\n",
    "\n",
    "    return ''.join([x[-1] for x in text_pool])"
   ]
  },
  {
   "cell_type": "code",
   "execution_count": 18,
   "metadata": {},
   "outputs": [
    {
     "data": {
      "text/plain": [
       "'ACGCCTTATGTTAGGCCACAAAAGACCGTATTCCCATCTCGCTCTACTGGCTTAAATACATTTTGGTTATTTCCCGCTTCGAACAGGCTGACCTTTTGTGCGATTGGCATTGTAACCCGTTGGCTGCTGCCAGAATGACCTAGGGTCATAGCCATATATCAAGGATTAGAGCTGTGGTTGAGACTCTCACGTTTTGCTGCATAGATCAGATGCCGTGCTCACAGGCATAACTCGCGCATCCAGTCCGCCGACAGGACGCGGTGGCATGCGCGGCCTACGAAATGCTAGGGAGGACGTCAAAACTCTGTGTAAATGTTAGTGATAAAACAGCGTGGGACGAAAAGTTTGATATGCCCGGAGCCTCGCCGACTGCCTGTCGTGAATTTTAGTGCAACGCCCACATCAAGACACCTTCTTTCCTGTTGAGTGGCGAGAGTATCGCCCGACCTACCTAGACTTTGGCTGCAGATAAGGCCACTAATGGAATTTCGACACTCAGTAAAAGGATCTAACGCACACCGAGAGCCCGCCCTTAACCCATGAGAGTGGCCCCTGATGTGTATTGCTACTCGGAGGATATGGACTAGTCAAGGACTGGCATCTTCGAAAAGGGAAACTGGGCGTATCGGCCTAAGTCGAGCTCGGAGCACTCGTATATCAGACTCTGGCTCTCACTATACTACACTATGTATCATGGAGTTACACCACCAG$CCTAAGGACCAACTCCGTAACATCGAACTAGCCGACTGACCTGGTTTTCGAACTGCCAGATCGTTGATGTCCCGCATGCACGATGTGTCGTAGCTCGGCCACAAACCGTTGCCCAGAAAATAGATCTCGGATGTGAATTACGAGAGTCAAATCTGTTCGCGCCAGTACAGGTTGAACGTATCGGATCGCATACCATGGCTTTGTTAACCCCGAAAGATCTTGATGACTCTCTACGTACTGGGCCGGGTCGAACACACCTCATCCGGACTACATG'"
      ]
     },
     "execution_count": 18,
     "metadata": {},
     "output_type": "execute_result"
    }
   ],
   "source": [
    "BurrowsWheeler(InputParser(\"test_datasets/BurrowsWheelerTransform/inputs/input_5.txt\"))"
   ]
  },
  {
   "cell_type": "code",
   "execution_count": null,
   "metadata": {},
   "outputs": [],
   "source": []
  }
 ],
 "metadata": {
  "kernelspec": {
   "display_name": "Python 3.8.13 ('ML')",
   "language": "python",
   "name": "python3"
  },
  "language_info": {
   "codemirror_mode": {
    "name": "ipython",
    "version": 3
   },
   "file_extension": ".py",
   "mimetype": "text/x-python",
   "name": "python",
   "nbconvert_exporter": "python",
   "pygments_lexer": "ipython3",
   "version": "3.8.13"
  },
  "orig_nbformat": 4,
  "vscode": {
   "interpreter": {
    "hash": "42981aa21682f5409b7a8314edf10a0ca4cae2c02786680d292cb972a01d179c"
   }
  }
 },
 "nbformat": 4,
 "nbformat_minor": 2
}
