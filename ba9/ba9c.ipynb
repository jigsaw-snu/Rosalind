{
 "cells": [
  {
   "cell_type": "code",
   "execution_count": 1,
   "metadata": {},
   "outputs": [],
   "source": [
    "from typing import Any"
   ]
  },
  {
   "cell_type": "code",
   "execution_count": 2,
   "metadata": {},
   "outputs": [],
   "source": [
    "def InputParser(file_path: str) -> str:\n",
    "    with open(file_path, 'r') as file:\n",
    "        return file.readline().rstrip()"
   ]
  },
  {
   "cell_type": "code",
   "execution_count": 3,
   "metadata": {},
   "outputs": [],
   "source": [
    "def CompareFindIndex(text1: str, text2: str) -> int:\n",
    "    if text1 == None or text2 == None:\n",
    "        return 0\n",
    "\n",
    "    # text1 : reference text for comparison, text2 : target text\n",
    "    # return 0 : overlaps nothing\n",
    "    # return k : overlaps from 0 to k-1 --> k = length of overlapping text\n",
    "    i = 0\n",
    "    while i < min(len(text1), len(text2)):\n",
    "        if text1[i] != text2[i]:\n",
    "            return i\n",
    "        i += 1\n",
    "    return i"
   ]
  },
  {
   "cell_type": "code",
   "execution_count": 4,
   "metadata": {},
   "outputs": [],
   "source": [
    "class suffix_node:\n",
    "    def __init__(self, val):\n",
    "        self.val = val\n",
    "        self.children = []"
   ]
  },
  {
   "cell_type": "code",
   "execution_count": 5,
   "metadata": {},
   "outputs": [],
   "source": [
    "def DFS(node: suffix_node) -> None:\n",
    "    if not node:\n",
    "        return\n",
    "\n",
    "    if node.val != None:\n",
    "        print(node.val)\n",
    "\n",
    "    for child in node.children:\n",
    "        DFS(child)"
   ]
  },
  {
   "cell_type": "code",
   "execution_count": 13,
   "metadata": {},
   "outputs": [],
   "source": [
    "def QueryNode(node: suffix_node, query: str) -> suffix_node:\n",
    "    comp_idx = CompareFindIndex(node.val, query)\n",
    "    #print(\"text :\", node.val, \" query :\", query)\n",
    "\n",
    "    if comp_idx:\n",
    "        # node.val is substring of query\n",
    "        if comp_idx == len(node.val):\n",
    "            \n",
    "            # node is leaf\n",
    "            if not node.children:\n",
    "                #print(\"Adding new node :\", query[comp_idx:])\n",
    "                node.children.append(suffix_node(query[comp_idx:]))\n",
    "            \n",
    "            # node has children\n",
    "            else:\n",
    "                passive_new_node = True\n",
    "                for child in node.children:\n",
    "                    if CompareFindIndex(child.val, query[comp_idx:]):\n",
    "                        passive_new_node = False\n",
    "                        child = QueryNode(child, query[comp_idx:])\n",
    "                \n",
    "                if passive_new_node:\n",
    "                    #print(\"Adding new node :\", query[comp_idx:])\n",
    "                    node.children.append(suffix_node(query[comp_idx:]))\n",
    "\n",
    "        # node.val and query have overlap\n",
    "        else:\n",
    "            # node is leaf\n",
    "            if not node.children:\n",
    "                #print(\"Separating Node :\", node.val, \"becomes\", node.val[:comp_idx], \"|| Childeren :\", node.val[comp_idx:], \"and\", query[comp_idx:])\n",
    "                old_val = node.val\n",
    "                node.val = old_val[:comp_idx]\n",
    "                node.children.append(suffix_node(old_val[comp_idx:]))\n",
    "                node.children.append(suffix_node(query[comp_idx:]))\n",
    "\n",
    "            # node has children\n",
    "            else:\n",
    "                for child in node.children:\n",
    "                    child = QueryNode(child, query)\n",
    "                    \n",
    "    else:\n",
    "        if not node.children and node.val == None:\n",
    "            #print(\"Adding new node :\", query)\n",
    "            node.children.append(suffix_node(query))\n",
    "        elif node.children and node.val == None:\n",
    "            passive_new_node = True\n",
    "            for child in node.children:\n",
    "                if CompareFindIndex(child.val, query):\n",
    "                    passive_new_node = False\n",
    "                    child = QueryNode(child, query)\n",
    "            \n",
    "            if passive_new_node:\n",
    "                #print(\"Adding new node :\", query)\n",
    "                node.children.append(suffix_node(query))\n",
    "    \n",
    "    return node"
   ]
  },
  {
   "cell_type": "code",
   "execution_count": 7,
   "metadata": {},
   "outputs": [],
   "source": [
    "def SuffixTreeBuilder2(input_str: str) -> None:\n",
    "    root = suffix_node(None)\n",
    "\n",
    "    for i in range(1, len(input_str)+1):\n",
    "        query = input_str[-i:]\n",
    "        root = QueryNode(root, query)\n",
    "    \n",
    "    DFS(root)"
   ]
  },
  {
   "cell_type": "code",
   "execution_count": 15,
   "metadata": {},
   "outputs": [
    {
     "name": "stdout",
     "output_type": "stream",
     "text": [
      "$\n",
      "s$\n",
      "a\n",
      "s$\n",
      "na\n",
      "s$\n",
      "nas$\n",
      "mabananas$\n",
      "bananas$\n",
      "mabananas$\n",
      "na\n",
      "s$\n",
      "nas$\n",
      "mabananas$\n",
      "bananas$\n",
      "mabananas$\n",
      "panamabananas$\n"
     ]
    }
   ],
   "source": [
    "#SuffixTreeBuilder2(InputParser(\"test_datasets/testdata_ba9c.txt\"))\n",
    "#SuffixTreeBuilder2(InputParser(\"test_datasets/rosalind_ba9c.txt\"))\n",
    "#SuffixTreeBuilder2(InputParser(\"test_datasets/rosalind_ba9c-2.txt\"))\n",
    "#SuffixTreeBuilder2(\"Banana$\")\n",
    "SuffixTreeBuilder2(\"panamabananas$\")"
   ]
  },
  {
   "cell_type": "code",
   "execution_count": null,
   "metadata": {},
   "outputs": [],
   "source": []
  }
 ],
 "metadata": {
  "kernelspec": {
   "display_name": "Python 3.8.13 ('ML')",
   "language": "python",
   "name": "python3"
  },
  "language_info": {
   "codemirror_mode": {
    "name": "ipython",
    "version": 3
   },
   "file_extension": ".py",
   "mimetype": "text/x-python",
   "name": "python",
   "nbconvert_exporter": "python",
   "pygments_lexer": "ipython3",
   "version": "3.8.13"
  },
  "orig_nbformat": 4,
  "vscode": {
   "interpreter": {
    "hash": "5f81ca079b9101c07fe85c8b090c9e2cc9c56a877851e75c4fbd4dbec9ea9fed"
   }
  }
 },
 "nbformat": 4,
 "nbformat_minor": 2
}
