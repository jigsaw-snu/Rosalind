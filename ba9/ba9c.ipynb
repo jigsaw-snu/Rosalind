{
 "cells": [
  {
   "cell_type": "code",
   "execution_count": 1,
   "metadata": {},
   "outputs": [],
   "source": [
    "from typing import Any"
   ]
  },
  {
   "cell_type": "code",
   "execution_count": 4,
   "metadata": {},
   "outputs": [],
   "source": [
    "def InputParser(file_path: str) -> str:\n",
    "    with open(file_path, 'r') as file:\n",
    "        return file.readline().rstrip()"
   ]
  },
  {
   "cell_type": "code",
   "execution_count": 5,
   "metadata": {},
   "outputs": [],
   "source": [
    "def CompareFindIndex(text1: str, text2: str) -> int:\n",
    "    if text1 == None or text2 == None:\n",
    "        return 0\n",
    "\n",
    "    # text1 : reference text for comparison, text2 : target text\n",
    "    # return 0 : overlaps nothing\n",
    "    # return k : overlaps from 0 to k-1 --> k = length of overlapping text\n",
    "    i = 0\n",
    "    while i < min(len(text1), len(text2)):\n",
    "        if text1[i] != text2[i]:\n",
    "            return i\n",
    "        i += 1\n",
    "    return i"
   ]
  },
  {
   "cell_type": "code",
   "execution_count": 6,
   "metadata": {},
   "outputs": [],
   "source": [
    "class suffix_node:\n",
    "    def __init__(self, val):\n",
    "        self.val = val\n",
    "        self.children = []"
   ]
  },
  {
   "cell_type": "code",
   "execution_count": 7,
   "metadata": {},
   "outputs": [],
   "source": [
    "def PrintNodes(node: suffix_node) -> None:\n",
    "    if not node:\n",
    "        return\n",
    "\n",
    "    if node.val != None:\n",
    "        print(node.val)\n",
    "\n",
    "    for child in node.children:\n",
    "        PrintNodes(child)"
   ]
  },
  {
   "cell_type": "code",
   "execution_count": 8,
   "metadata": {},
   "outputs": [],
   "source": [
    "def QueryNode(node: suffix_node, query: str) -> suffix_node:\n",
    "    comp_idx = CompareFindIndex(node.val, query)\n",
    "    print(\"text :\", node.val, \" query :\", query)\n",
    "\n",
    "    if comp_idx:\n",
    "        # node.val is substring of query\n",
    "        if comp_idx == len(node.val):\n",
    "            \n",
    "            # node is leaf\n",
    "            if not node.children:\n",
    "                print(\"Adding new node :\", query[comp_idx:])\n",
    "                node.children.append(suffix_node(query[comp_idx:]))\n",
    "            \n",
    "            # node has children\n",
    "            else:\n",
    "                passive_new_node = True\n",
    "                for child in node.children:\n",
    "                    if CompareFindIndex(child.val, query[comp_idx:]):\n",
    "                        passive_new_node = False\n",
    "                        child = QueryNode(child, query[comp_idx:])\n",
    "                \n",
    "                if passive_new_node:\n",
    "                    print(\"Adding new node :\", query[comp_idx:])\n",
    "                    node.children.append(suffix_node(query[comp_idx:]))\n",
    "\n",
    "        # node.val and query have overlap\n",
    "        else:\n",
    "            # node is leaf\n",
    "            if not node.children:\n",
    "                print(\"Separating Node :\", node.val, \"becomes\", node.val[:comp_idx], \"|| Childeren :\", node.val[comp_idx:], \"and\", query[comp_idx:])\n",
    "                old_val = node.val\n",
    "                node.val = old_val[:comp_idx]\n",
    "                node.children.append(suffix_node(old_val[comp_idx:]))\n",
    "                node.children.append(suffix_node(query[comp_idx:]))\n",
    "\n",
    "            # node has children\n",
    "            else:\n",
    "                for child in node.children:\n",
    "                    child = QueryNode(child, query)\n",
    "                    \n",
    "    else:\n",
    "        if not node.children and node.val == None:\n",
    "            print(\"Adding new node :\", query)\n",
    "            node.children.append(suffix_node(query))\n",
    "        elif node.children and node.val == None:\n",
    "            passive_new_node = True\n",
    "            for child in node.children:\n",
    "                if CompareFindIndex(child.val, query):\n",
    "                    passive_new_node = False\n",
    "                    child = QueryNode(child, query)\n",
    "            \n",
    "            if passive_new_node:\n",
    "                print(\"Adding new node :\", query)\n",
    "                node.children.append(suffix_node(query))\n",
    "    \n",
    "    return node"
   ]
  },
  {
   "cell_type": "code",
   "execution_count": 9,
   "metadata": {},
   "outputs": [],
   "source": [
    "def SuffixTreeBuilder2(input_str: str) -> None:\n",
    "    root = suffix_node(None)\n",
    "\n",
    "    for i in range(1, len(input_str)+1):\n",
    "        query = input_str[-i:]\n",
    "        root = QueryNode(root, query)\n",
    "    \n",
    "    PrintNodes(root)"
   ]
  },
  {
   "cell_type": "code",
   "execution_count": 10,
   "metadata": {},
   "outputs": [
    {
     "name": "stdout",
     "output_type": "stream",
     "text": [
      "text : None  query : $\n",
      "Adding new node : $\n",
      "text : None  query : C$\n",
      "Adding new node : C$\n",
      "text : None  query : TC$\n",
      "Adding new node : TC$\n",
      "text : None  query : ATC$\n",
      "Adding new node : ATC$\n",
      "text : None  query : AATC$\n",
      "text : ATC$  query : AATC$\n",
      "Separating Node : ATC$ becomes A || Childeren : TC$ and ATC$\n",
      "text : None  query : CAATC$\n",
      "text : C$  query : CAATC$\n",
      "Separating Node : C$ becomes C || Childeren : $ and AATC$\n",
      "text : None  query : TCAATC$\n",
      "text : TC$  query : TCAATC$\n",
      "Separating Node : TC$ becomes TC || Childeren : $ and AATC$\n",
      "text : None  query : ATCAATC$\n",
      "text : A  query : ATCAATC$\n",
      "text : TC$  query : TCAATC$\n",
      "Separating Node : TC$ becomes TC || Childeren : $ and AATC$\n",
      "text : None  query : AATCAATC$\n",
      "text : A  query : AATCAATC$\n",
      "text : ATC$  query : ATCAATC$\n",
      "Separating Node : ATC$ becomes ATC || Childeren : $ and AATC$\n",
      "$\n",
      "C\n",
      "$\n",
      "AATC$\n",
      "TC\n",
      "$\n",
      "AATC$\n",
      "A\n",
      "TC\n",
      "$\n",
      "AATC$\n",
      "ATC\n",
      "$\n",
      "AATC$\n"
     ]
    }
   ],
   "source": [
    "#SuffixTreeBuilder2(InputParser(\"test_datasets/testdata_ba9c.txt\"))\n",
    "#SuffixTreeBuilder2(InputParser(\"test_datasets/rosalind_ba9c.txt\"))\n",
    "#SuffixTreeBuilder2(InputParser(\"test_datasets/rosalind_ba9c-2.txt\"))\n",
    "#SuffixTreeBuilder2(\"Banana$\")\n",
    "#SuffixTreeBuilder2(\"panamabananas$\")\n",
    "SuffixTreeBuilder2(\"AATCAATC$\")"
   ]
  },
  {
   "cell_type": "code",
   "execution_count": null,
   "metadata": {},
   "outputs": [],
   "source": []
  }
 ],
 "metadata": {
  "kernelspec": {
   "display_name": "Python 3.8.13 ('ML')",
   "language": "python",
   "name": "python3"
  },
  "language_info": {
   "codemirror_mode": {
    "name": "ipython",
    "version": 3
   },
   "file_extension": ".py",
   "mimetype": "text/x-python",
   "name": "python",
   "nbconvert_exporter": "python",
   "pygments_lexer": "ipython3",
   "version": "3.8.13"
  },
  "orig_nbformat": 4,
  "vscode": {
   "interpreter": {
    "hash": "42981aa21682f5409b7a8314edf10a0ca4cae2c02786680d292cb972a01d179c"
   }
  }
 },
 "nbformat": 4,
 "nbformat_minor": 2
}
