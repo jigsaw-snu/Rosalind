{
 "cells": [
  {
   "cell_type": "code",
   "execution_count": 1,
   "metadata": {},
   "outputs": [],
   "source": [
    "def InputParser(file_path: str) -> list:\n",
    "    patterns = []\n",
    "\n",
    "    with open(file_path, 'r') as file:\n",
    "        while True:\n",
    "            line = file.readline().rstrip()\n",
    "\n",
    "            if not line:\n",
    "                break\n",
    "\n",
    "            patterns.append(line)\n",
    "    \n",
    "    return patterns"
   ]
  },
  {
   "cell_type": "code",
   "execution_count": null,
   "metadata": {},
   "outputs": [],
   "source": [
    "def TrieBuilder(patterns: list) -> list:\n",
    "    trie = {0:[]}  # let us call 0 as root node\n",
    "\n",
    "    for pattern in patterns:\n",
    "        for char in pattern:\n",
    "            "
   ]
  },
  {
   "cell_type": "code",
   "execution_count": 2,
   "metadata": {},
   "outputs": [
    {
     "data": {
      "text/plain": [
       "['ATAGA', 'ATC', 'GAT']"
      ]
     },
     "execution_count": 2,
     "metadata": {},
     "output_type": "execute_result"
    }
   ],
   "source": [
    "InputParser(\"test_datasets/testdata_ba9a.txt\")"
   ]
  },
  {
   "cell_type": "code",
   "execution_count": null,
   "metadata": {},
   "outputs": [],
   "source": []
  }
 ],
 "metadata": {
  "kernelspec": {
   "display_name": "Python 3.8.13",
   "language": "python",
   "name": "python3"
  },
  "language_info": {
   "codemirror_mode": {
    "name": "ipython",
    "version": 3
   },
   "file_extension": ".py",
   "mimetype": "text/x-python",
   "name": "python",
   "nbconvert_exporter": "python",
   "pygments_lexer": "ipython3",
   "version": "3.8.13"
  },
  "orig_nbformat": 4,
  "vscode": {
   "interpreter": {
    "hash": "c51666a50ffeaa16e3d0b681020e9d30ab6b2a31023c896cc4f4794ea395fe4a"
   }
  }
 },
 "nbformat": 4,
 "nbformat_minor": 2
}
